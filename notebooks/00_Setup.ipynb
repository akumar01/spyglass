{
 "cells": [
  {
   "cell_type": "markdown",
   "id": "1c661dbc",
   "metadata": {},
   "source": [
    "# Setup\n"
   ]
  },
  {
   "cell_type": "code",
   "execution_count": 1,
   "id": "6f423f76",
   "metadata": {},
   "outputs": [],
   "source": [
    "## Intro\n"
   ]
  },
  {
   "cell_type": "markdown",
   "id": "cbb74150",
   "metadata": {},
   "source": [
    "Welcome to [Spyglass](https://lorenfranklab.github.io/spyglass/0.4/),\n",
    "a [DataJoint](https://github.com/datajoint/datajoint-python/)\n",
    "pipeline maintained by the [Frank Lab](https://franklab.ucsf.edu/) at UCSF.\n",
    "\n",
    "Spyglass will help you take an [NWB](https://www.nwb.org/) file from raw data to\n",
    "analysis-ready preprocessed formats using DataJoint to (a) connect to a\n",
    "[relational database](https://www.youtube.com/watch?v=q-PMUSC5P5o) (here,\n",
    "MySQL), and (b) automate processing steps. To use Spyglass, you'll need to ...\n",
    "\n",
    "1. Set up your local environment\n",
    "2. Connect to a database\n"
   ]
  },
  {
   "cell_type": "markdown",
   "id": "65a5bf87",
   "metadata": {},
   "source": [
    "## Local environment\n"
   ]
  },
  {
   "cell_type": "markdown",
   "id": "aa6bddcb",
   "metadata": {},
   "source": [
    "JupyterHub users can skip this step. Frank Lab members should first follow\n",
    "'rec to nwb overview' steps on Google Drive to set up an ssh connection.\n",
    "\n",
    "For local use, download and install ...\n",
    "\n",
    "1. [Python 3.9](https://wiki.python.org/moin/BeginnersGuide/Download).\n",
    "2. [mamba](https://mamba.readthedocs.io/en/latest/installation.html) as a\n",
    "   replacement for conda. Spyglass installation is significantly faster with\n",
    "   mamba.\n",
    "   ```bash\n",
    "   wget \"https://github.com/conda-forge/miniforge/releases/latest/download/Miniforge3-$(uname)-$(uname -m).sh\"\n",
    "   bash Miniforge3-$(uname)-$(uname -m).sh\n",
    "   ```\n",
    "3. [VS Code](https://code.visualstudio.com/docs/python/python-tutorial) with\n",
    "   relevant python extensions, including\n",
    "   [Jupyter](https://code.visualstudio.com/docs/datascience/jupyter-notebooks).\n",
    "   Hold off on selecting your interpreter until after you make the environment\n",
    "   with `mamba`.\n",
    "4. [git](https://git-scm.com/book/en/v2/Getting-Started-Installing-Git) for\n",
    "   downloading the repository, including notebooks.\n",
    "\n",
    "In a terminal, ...\n",
    "\n",
    "1. navigate to your project directory.\n",
    "2. use `git` to download the Spyglass repository.\n",
    "3. navigate to the newly downloaded directory.\n",
    "4. create a `mamba` environment with either the standard `environment.yml` or\n",
    "   the `environment_position.yml`, if you intend to use the full position\n",
    "   pipeline. The latter will take longer to install.\n",
    "5. open this notebook with VSCode\n",
    "\n",
    "Commands for the steps above ...\n",
    "\n",
    "```bash\n",
    "cd /your/project/directory/ # 1\n",
    "git clone https://github.com/LorenFrankLab/spyglass/ # 2\n",
    "cd spyglass # 3\n",
    "mamba env create -f environment.yml # 4\n",
    "code notebooks/00_Setup.ipynb # 5\n",
    "```\n",
    "\n",
    "_Note:_ Spyglass is also installable via\n",
    "[pip](<https://en.wikipedia.org/wiki/Pip_(package_manager)>)\n",
    "and [pypi](https://pypi.org/project/spyglass-neuro/) with\n",
    "`pip install spyglass-neuro`, but downloading from GitHub will also download\n",
    "other files.\n",
    "\n",
    "Next, within VSCode,\n",
    "[select the kernel](https://code.visualstudio.com/docs/datascience/jupyter-kernel-management)\n",
    "that matches your spyglass environment created with `mamba`. To use other Python\n",
    "interfaces, be sure to activate the environment: `conda activate spyglass`\n",
    "\n",
    "See [this guide](https://datajoint.com/docs/elements/user-guide/) for additional\n",
    "details on each of these programs and the role they play in using the pipeline.\n"
   ]
  },
  {
   "cell_type": "markdown",
   "id": "f87a0acc",
   "metadata": {},
   "source": [
    "## Database\n"
   ]
  },
  {
   "cell_type": "markdown",
   "id": "1dc35b5a",
   "metadata": {},
   "source": [
    "You have a few options for databases.\n",
    "\n",
    "1. Connect to an existing database.\n",
    "2. Run your own database with [Docker](#running-your-own-database)\n",
    "3. JupyterHub (coming soon...)\n",
    "\n",
    "Your choice above should result in a set of credentials, including host name,\n",
    "host port, user name, and password. Note these for the next step.\n",
    "\n",
    "<details><summary>Note for MySQL 8 users, including Frank Lab members</summary>\n",
    "\n",
    "Using a MySQL 8 server, like the server hosted by the Frank Lab, will\n",
    "require the pre-release version of DataJoint to change one's password.\n",
    "\n",
    "```bash\n",
    "cd /location/for/datajoint/source/files/\n",
    "git clone https://github.com/datajoint/datajoint-python\n",
    "pip install ./datajoint-python\n",
    "```\n",
    "\n",
    "</details>\n"
   ]
  },
  {
   "cell_type": "markdown",
   "id": "f6f3fa15",
   "metadata": {},
   "source": [
    "### Existing Database\n"
   ]
  },
  {
   "cell_type": "markdown",
   "id": "580d3feb",
   "metadata": {},
   "source": [
    "Connecting to an existing database will require a user name and password.\n",
    "Please contact your database administrator for this information.\n",
    "\n",
    "Frank Lab members should contact Chris.\n"
   ]
  },
  {
   "cell_type": "markdown",
   "id": "a63761cc-437f-4e4a-a777-664b321b9b94",
   "metadata": {},
   "source": [
    "### Running your own database with Docker\n"
   ]
  },
  {
   "cell_type": "markdown",
   "id": "e8f57976",
   "metadata": {},
   "source": [
    "- First, [install Docker](https://docs.docker.com/engine/install/).\n",
    "- Add yourself to the\n",
    "  [`docker` group](https://docs.docker.com/engine/install/linux-postinstall/) so\n",
    "  that you don't have to be sudo to run docker.\n",
    "- Download the docker image for `datajoint/mysql:8.0`.\n",
    "\n",
    "  ```bash\n",
    "  docker pull datajoint/mysql:8.0\n",
    "  ```\n",
    "\n",
    "- When run, this is referred to as a 'Docker container'\n",
    "- Next start the container with a couple additional pieces of info...\n",
    "\n",
    "  - Root password. We use `tutorial`.\n",
    "  - Database name. Here, we use `spyglass-db`.\n",
    "  - Port mapping. Here, we map 3306 across the local machine and container.\n",
    "\n",
    "  ```bash\n",
    "  docker run --name spyglass-db -p 3306:3306 -e MYSQL_ROOT_PASSWORD=tutorial datajoint/mysql:8.0\n",
    "  ```\n",
    "\n",
    "- For data to persist after terminating the container,\n",
    "  [attach a volume](https://docs.docker.com/storage/volumes/) when running:\n",
    "\n",
    "  ```bash\n",
    "  docker volume create dj-vol\n",
    "  docker run --name spyglass-db -v dj-vol:/var/lib/mysql -p 3306:3306 -e MYSQL_ROOT_PASSWORD=tutorial datajoint/mysql\n",
    "  ```\n",
    "\n",
    "Docker credentials are as follows:\n",
    "\n",
    "- Host: localhost\n",
    "- Password: tutorial\n",
    "- User: root\n",
    "- Port: 3306\n"
   ]
  },
  {
   "cell_type": "markdown",
   "id": "706d0ed5",
   "metadata": {},
   "source": [
    "### Config and Connecting to the database\n"
   ]
  },
  {
   "cell_type": "markdown",
   "id": "22d3b72d",
   "metadata": {},
   "source": [
    "Spyglass can load settings from either a DataJoint config file (recommended) or\n",
    "environmental variables. The code below will generate a config file, but we\n",
    "first need to decide a 'base path'. This is generally the parent directory\n",
    "where the data will be stored, with subdirectories for `raw`, `analysis`, and\n",
    "other data folders. If they don't exist already, they will be created.\n",
    "\n",
    "The function below will create a config file (`~/.datajoint.config` if global,\n",
    "`./dj_local_conf.json` if local). Local is recommended for the notebooks, as\n",
    "each will start by loading this file. Custom json configs can be saved elsewhere, but will need to be loaded in startup with\n",
    "`dj.config.load('your-path')`.\n",
    "\n",
    "To point spyglass to a folder elsewhere (e.g., an external drive for waveform\n",
    "data), simply edit the json file. Note that the `raw` and `analysis` paths\n",
    "appear under both `stores` and `custom`.\n"
   ]
  },
  {
   "cell_type": "code",
   "execution_count": 2,
   "id": "7ebcb0bf",
   "metadata": {},
   "outputs": [
    {
     "name": "stderr",
     "output_type": "stream",
     "text": [
      "[11:35:31][WARNING] Spyglass: Failed to load SpyglassConfig. Please set up config file.\n",
      "[2024-02-05 11:35:31,806][INFO]: Connecting akumar@lmf-db.cin.ucsf.edu:3306\n",
      "[2024-02-05 11:35:33,606][INFO]: Connected akumar@lmf-db.cin.ucsf.edu:3306\n",
      "[2024-02-05 11:35:49,827][INFO]: Password updated.\n",
      "[2024-02-05 11:35:52,876][INFO]: Saved settings in dj_local_conf.json\n",
      "[2024-02-05 11:35:56,557][INFO]: Saved settings in dj_local_conf.json\n"
     ]
    }
   ],
   "source": [
    "import os\n",
    "from spyglass.settings import SpyglassConfig\n",
    "\n",
    "# change to the root directory of the project\n",
    "if os.path.basename(os.getcwd()) == \"notebooks\":\n",
    "    os.chdir(\"..\")\n",
    "\n",
    "SpyglassConfig().save_dj_config(\n",
    "    save_method=\"local\",  # global or local\n",
    "    base_dir=\"/Users/ankitkumar/nse/spyglass/\",\n",
    "    database_user=\"akumar\",\n",
    "    database_password=\"akumartemppass\",  # remove this line for shared machines\n",
    "    database_host=\"lmf-db.cin.ucsf.edu\",\n",
    "    database_port=3306,\n",
    "    set_password=True,\n",
    ")"
   ]
  },
  {
   "cell_type": "markdown",
   "id": "06eef771",
   "metadata": {},
   "source": [
    "If you used either a local or global save method, we can check the connection\n",
    "to the database with ...\n"
   ]
  },
  {
   "cell_type": "code",
   "execution_count": 3,
   "id": "2e34baaf",
   "metadata": {},
   "outputs": [
    {
     "ename": "ImportError",
     "evalue": "cannot import name 'debug_mode' from 'spyglass.settings' (/Users/ankitkumar/micromamba/envs/spyglass/lib/python3.9/site-packages/spyglass/settings.py)",
     "output_type": "error",
     "traceback": [
      "\u001b[0;31m---------------------------------------------------------------------------\u001b[0m",
      "\u001b[0;31mImportError\u001b[0m                               Traceback (most recent call last)",
      "Cell \u001b[0;32mIn[3], line 6\u001b[0m\n\u001b[1;32m      3\u001b[0m dj\u001b[38;5;241m.\u001b[39mconn()  \u001b[38;5;66;03m# test connection\u001b[39;00m\n\u001b[1;32m      4\u001b[0m dj\u001b[38;5;241m.\u001b[39mconfig  \u001b[38;5;66;03m# check config\u001b[39;00m\n\u001b[0;32m----> 6\u001b[0m \u001b[38;5;28;01mfrom\u001b[39;00m \u001b[38;5;21;01mspyglass\u001b[39;00m\u001b[38;5;21;01m.\u001b[39;00m\u001b[38;5;21;01mcommon\u001b[39;00m \u001b[38;5;28;01mimport\u001b[39;00m Nwbfile\n\u001b[1;32m      8\u001b[0m Nwbfile()\n",
      "File \u001b[0;32m~/micromamba/envs/spyglass/lib/python3.9/site-packages/spyglass/common/__init__.py:13\u001b[0m\n\u001b[1;32m      3\u001b[0m \u001b[38;5;28;01mfrom\u001b[39;00m \u001b[38;5;21;01m.\u001b[39;00m\u001b[38;5;21;01m.\u001b[39;00m\u001b[38;5;21;01msettings\u001b[39;00m \u001b[38;5;28;01mimport\u001b[39;00m prepopulate\n\u001b[1;32m      4\u001b[0m \u001b[38;5;28;01mfrom\u001b[39;00m \u001b[38;5;21;01m.\u001b[39;00m\u001b[38;5;21;01m.\u001b[39;00m\u001b[38;5;21;01mutils\u001b[39;00m\u001b[38;5;21;01m.\u001b[39;00m\u001b[38;5;21;01mnwb_helper_fn\u001b[39;00m \u001b[38;5;28;01mimport\u001b[39;00m (\n\u001b[1;32m      5\u001b[0m     close_nwb_files,\n\u001b[1;32m      6\u001b[0m     estimate_sampling_rate,\n\u001b[0;32m   (...)\u001b[0m\n\u001b[1;32m     11\u001b[0m     get_valid_intervals,\n\u001b[1;32m     12\u001b[0m )\n\u001b[0;32m---> 13\u001b[0m \u001b[38;5;28;01mfrom\u001b[39;00m \u001b[38;5;21;01m.\u001b[39;00m\u001b[38;5;21;01mcommon_behav\u001b[39;00m \u001b[38;5;28;01mimport\u001b[39;00m (\n\u001b[1;32m     14\u001b[0m     PositionIntervalMap,\n\u001b[1;32m     15\u001b[0m     PositionSource,\n\u001b[1;32m     16\u001b[0m     RawPosition,\n\u001b[1;32m     17\u001b[0m     StateScriptFile,\n\u001b[1;32m     18\u001b[0m     VideoFile,\n\u001b[1;32m     19\u001b[0m     convert_epoch_interval_name_to_position_interval_name,\n\u001b[1;32m     20\u001b[0m )\n\u001b[1;32m     21\u001b[0m \u001b[38;5;28;01mfrom\u001b[39;00m \u001b[38;5;21;01m.\u001b[39;00m\u001b[38;5;21;01mcommon_device\u001b[39;00m \u001b[38;5;28;01mimport\u001b[39;00m (\n\u001b[1;32m     22\u001b[0m     CameraDevice,\n\u001b[1;32m     23\u001b[0m     DataAcquisitionDevice,\n\u001b[0;32m   (...)\u001b[0m\n\u001b[1;32m     27\u001b[0m     ProbeType,\n\u001b[1;32m     28\u001b[0m )\n\u001b[1;32m     29\u001b[0m \u001b[38;5;28;01mfrom\u001b[39;00m \u001b[38;5;21;01m.\u001b[39;00m\u001b[38;5;21;01mcommon_dio\u001b[39;00m \u001b[38;5;28;01mimport\u001b[39;00m DIOEvents\n",
      "File \u001b[0;32m~/micromamba/envs/spyglass/lib/python3.9/site-packages/spyglass/common/common_behav.py:11\u001b[0m\n\u001b[1;32m      8\u001b[0m \u001b[38;5;28;01mimport\u001b[39;00m \u001b[38;5;21;01mpynwb\u001b[39;00m\n\u001b[1;32m     10\u001b[0m \u001b[38;5;28;01mfrom\u001b[39;00m \u001b[38;5;21;01mspyglass\u001b[39;00m\u001b[38;5;21;01m.\u001b[39;00m\u001b[38;5;21;01mcommon\u001b[39;00m\u001b[38;5;21;01m.\u001b[39;00m\u001b[38;5;21;01mcommon_device\u001b[39;00m \u001b[38;5;28;01mimport\u001b[39;00m CameraDevice\n\u001b[0;32m---> 11\u001b[0m \u001b[38;5;28;01mfrom\u001b[39;00m \u001b[38;5;21;01mspyglass\u001b[39;00m\u001b[38;5;21;01m.\u001b[39;00m\u001b[38;5;21;01mcommon\u001b[39;00m\u001b[38;5;21;01m.\u001b[39;00m\u001b[38;5;21;01mcommon_ephys\u001b[39;00m \u001b[38;5;28;01mimport\u001b[39;00m Raw  \u001b[38;5;66;03m# noqa: F401\u001b[39;00m\n\u001b[1;32m     12\u001b[0m \u001b[38;5;28;01mfrom\u001b[39;00m \u001b[38;5;21;01mspyglass\u001b[39;00m\u001b[38;5;21;01m.\u001b[39;00m\u001b[38;5;21;01mcommon\u001b[39;00m\u001b[38;5;21;01m.\u001b[39;00m\u001b[38;5;21;01mcommon_interval\u001b[39;00m \u001b[38;5;28;01mimport\u001b[39;00m IntervalList, interval_list_contains\n\u001b[1;32m     13\u001b[0m \u001b[38;5;28;01mfrom\u001b[39;00m \u001b[38;5;21;01mspyglass\u001b[39;00m\u001b[38;5;21;01m.\u001b[39;00m\u001b[38;5;21;01mcommon\u001b[39;00m\u001b[38;5;21;01m.\u001b[39;00m\u001b[38;5;21;01mcommon_nwbfile\u001b[39;00m \u001b[38;5;28;01mimport\u001b[39;00m Nwbfile\n",
      "File \u001b[0;32m~/micromamba/envs/spyglass/lib/python3.9/site-packages/spyglass/common/common_ephys.py:11\u001b[0m\n\u001b[1;32m      9\u001b[0m \u001b[38;5;28;01mfrom\u001b[39;00m \u001b[38;5;21;01mspyglass\u001b[39;00m\u001b[38;5;21;01m.\u001b[39;00m\u001b[38;5;21;01mcommon\u001b[39;00m\u001b[38;5;21;01m.\u001b[39;00m\u001b[38;5;21;01mcommon_device\u001b[39;00m \u001b[38;5;28;01mimport\u001b[39;00m Probe  \u001b[38;5;66;03m# noqa: F401\u001b[39;00m\n\u001b[1;32m     10\u001b[0m \u001b[38;5;28;01mfrom\u001b[39;00m \u001b[38;5;21;01mspyglass\u001b[39;00m\u001b[38;5;21;01m.\u001b[39;00m\u001b[38;5;21;01mcommon\u001b[39;00m\u001b[38;5;21;01m.\u001b[39;00m\u001b[38;5;21;01mcommon_filter\u001b[39;00m \u001b[38;5;28;01mimport\u001b[39;00m FirFilterParameters\n\u001b[0;32m---> 11\u001b[0m \u001b[38;5;28;01mfrom\u001b[39;00m \u001b[38;5;21;01mspyglass\u001b[39;00m\u001b[38;5;21;01m.\u001b[39;00m\u001b[38;5;21;01mcommon\u001b[39;00m\u001b[38;5;21;01m.\u001b[39;00m\u001b[38;5;21;01mcommon_interval\u001b[39;00m \u001b[38;5;28;01mimport\u001b[39;00m interval_list_censor  \u001b[38;5;66;03m# noqa: F401\u001b[39;00m\n\u001b[1;32m     12\u001b[0m \u001b[38;5;28;01mfrom\u001b[39;00m \u001b[38;5;21;01mspyglass\u001b[39;00m\u001b[38;5;21;01m.\u001b[39;00m\u001b[38;5;21;01mcommon\u001b[39;00m\u001b[38;5;21;01m.\u001b[39;00m\u001b[38;5;21;01mcommon_interval\u001b[39;00m \u001b[38;5;28;01mimport\u001b[39;00m (\n\u001b[1;32m     13\u001b[0m     IntervalList,\n\u001b[1;32m     14\u001b[0m     interval_list_contains_ind,\n\u001b[1;32m     15\u001b[0m     interval_list_intersect,\n\u001b[1;32m     16\u001b[0m )\n\u001b[1;32m     17\u001b[0m \u001b[38;5;28;01mfrom\u001b[39;00m \u001b[38;5;21;01mspyglass\u001b[39;00m\u001b[38;5;21;01m.\u001b[39;00m\u001b[38;5;21;01mcommon\u001b[39;00m\u001b[38;5;21;01m.\u001b[39;00m\u001b[38;5;21;01mcommon_nwbfile\u001b[39;00m \u001b[38;5;28;01mimport\u001b[39;00m AnalysisNwbfile, Nwbfile\n",
      "File \u001b[0;32m~/micromamba/envs/spyglass/lib/python3.9/site-packages/spyglass/common/common_interval.py:11\u001b[0m\n\u001b[1;32m      7\u001b[0m \u001b[38;5;28;01mimport\u001b[39;00m \u001b[38;5;21;01mpandas\u001b[39;00m \u001b[38;5;28;01mas\u001b[39;00m \u001b[38;5;21;01mpd\u001b[39;00m\n\u001b[1;32m      9\u001b[0m \u001b[38;5;28;01mfrom\u001b[39;00m \u001b[38;5;21;01mspyglass\u001b[39;00m\u001b[38;5;21;01m.\u001b[39;00m\u001b[38;5;21;01mutils\u001b[39;00m \u001b[38;5;28;01mimport\u001b[39;00m SpyglassMixin, logger\n\u001b[0;32m---> 11\u001b[0m \u001b[38;5;28;01mfrom\u001b[39;00m \u001b[38;5;21;01m.\u001b[39;00m\u001b[38;5;21;01mcommon_session\u001b[39;00m \u001b[38;5;28;01mimport\u001b[39;00m Session  \u001b[38;5;66;03m# noqa: F401\u001b[39;00m\n\u001b[1;32m     13\u001b[0m schema \u001b[38;5;241m=\u001b[39m dj\u001b[38;5;241m.\u001b[39mschema(\u001b[38;5;124m\"\u001b[39m\u001b[38;5;124mcommon_interval\u001b[39m\u001b[38;5;124m\"\u001b[39m)\n\u001b[1;32m     15\u001b[0m \u001b[38;5;66;03m# TODO: ADD export to NWB function to save relevant intervals in an NWB file\u001b[39;00m\n",
      "File \u001b[0;32m~/micromamba/envs/spyglass/lib/python3.9/site-packages/spyglass/common/common_session.py:11\u001b[0m\n\u001b[1;32m      9\u001b[0m \u001b[38;5;28;01mfrom\u001b[39;00m \u001b[38;5;21;01mspyglass\u001b[39;00m\u001b[38;5;21;01m.\u001b[39;00m\u001b[38;5;21;01mcommon\u001b[39;00m\u001b[38;5;21;01m.\u001b[39;00m\u001b[38;5;21;01mcommon_nwbfile\u001b[39;00m \u001b[38;5;28;01mimport\u001b[39;00m Nwbfile\n\u001b[1;32m     10\u001b[0m \u001b[38;5;28;01mfrom\u001b[39;00m \u001b[38;5;21;01mspyglass\u001b[39;00m\u001b[38;5;21;01m.\u001b[39;00m\u001b[38;5;21;01mcommon\u001b[39;00m\u001b[38;5;21;01m.\u001b[39;00m\u001b[38;5;21;01mcommon_subject\u001b[39;00m \u001b[38;5;28;01mimport\u001b[39;00m Subject\n\u001b[0;32m---> 11\u001b[0m \u001b[38;5;28;01mfrom\u001b[39;00m \u001b[38;5;21;01mspyglass\u001b[39;00m\u001b[38;5;21;01m.\u001b[39;00m\u001b[38;5;21;01msettings\u001b[39;00m \u001b[38;5;28;01mimport\u001b[39;00m config, debug_mode, test_mode\n\u001b[1;32m     12\u001b[0m \u001b[38;5;28;01mfrom\u001b[39;00m \u001b[38;5;21;01mspyglass\u001b[39;00m\u001b[38;5;21;01m.\u001b[39;00m\u001b[38;5;21;01mutils\u001b[39;00m \u001b[38;5;28;01mimport\u001b[39;00m SpyglassMixin, logger\n\u001b[1;32m     13\u001b[0m \u001b[38;5;28;01mfrom\u001b[39;00m \u001b[38;5;21;01mspyglass\u001b[39;00m\u001b[38;5;21;01m.\u001b[39;00m\u001b[38;5;21;01mutils\u001b[39;00m\u001b[38;5;21;01m.\u001b[39;00m\u001b[38;5;21;01mnwb_helper_fn\u001b[39;00m \u001b[38;5;28;01mimport\u001b[39;00m get_config, get_nwb_file\n",
      "\u001b[0;31mImportError\u001b[0m: cannot import name 'debug_mode' from 'spyglass.settings' (/Users/ankitkumar/micromamba/envs/spyglass/lib/python3.9/site-packages/spyglass/settings.py)"
     ]
    }
   ],
   "source": [
    "import datajoint as dj\n",
    "\n",
    "dj.conn()  # test connection\n",
    "dj.config  # check config\n",
    "\n",
    "from spyglass.common import Nwbfile\n",
    "\n",
    "Nwbfile()"
   ]
  },
  {
   "cell_type": "markdown",
   "id": "a492b8ba",
   "metadata": {},
   "source": [
    "If you see an error saying `Could not find SPYGLASS_BASE_DIR`, try loading your\n",
    "config before importing Spyglass, try setting this as an environmental variable\n",
    "before importing Spyglass.\n",
    "\n",
    "```python\n",
    "os.environ['SPYGLASS_BASE_DIR'] = '/your/base/path'\n",
    "\n",
    "import spyglass\n",
    "from spyglass.settings import SpyglassConfig\n",
    "import datajoint as dj\n",
    "print(SpyglassConfig().config)\n",
    "dj.config.save_local() # or global\n",
    "```\n"
   ]
  },
  {
   "cell_type": "markdown",
   "id": "13fd64af",
   "metadata": {},
   "source": [
    "# Up Next\n"
   ]
  },
  {
   "cell_type": "markdown",
   "id": "c6850095",
   "metadata": {},
   "source": [
    "Next, we'll try [inserting data](./01_Insert_Data.ipynb)\n"
   ]
  }
 ],
 "metadata": {
  "kernelspec": {
   "display_name": "Python 3 (ipykernel)",
   "language": "python",
   "name": "python3"
  },
  "language_info": {
   "codemirror_mode": {
    "name": "ipython",
    "version": 3
   },
   "file_extension": ".py",
   "mimetype": "text/x-python",
   "name": "python",
   "nbconvert_exporter": "python",
   "pygments_lexer": "ipython3",
   "version": "3.9.18"
  }
 },
 "nbformat": 4,
 "nbformat_minor": 5
}
